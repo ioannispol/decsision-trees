{
 "cells": [
  {
   "cell_type": "code",
   "execution_count": null,
   "metadata": {},
   "outputs": [],
   "source": []
  }
 ],
 "metadata": {
  "interpreter": {
   "hash": "f6707a092f7c18d8c6181232f5276d686f5892aefc80516f2327eb27ee84fc5c"
  },
  "kernelspec": {
   "display_name": "Python 3.10.2 ('torch')",
   "language": "python",
   "name": "python3"
  },
  "language_info": {
   "name": "python",
   "version": "3.10.2"
  },
  "orig_nbformat": 4
 },
 "nbformat": 4,
 "nbformat_minor": 2
}
